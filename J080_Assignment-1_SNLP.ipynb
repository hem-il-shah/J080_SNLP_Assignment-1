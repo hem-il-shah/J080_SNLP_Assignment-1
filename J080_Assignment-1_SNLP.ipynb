{
 "cells": [
  {
   "cell_type": "code",
   "execution_count": 2,
   "metadata": {
    "_cell_guid": "b1076dfc-b9ad-4769-8c92-a6c4dae69d19",
    "_uuid": "8f2839f25d086af736a60e9eeb907d3b93b6e0e5",
    "execution": {
     "iopub.execute_input": "2025-07-20T05:48:26.752872Z",
     "iopub.status.busy": "2025-07-20T05:48:26.752601Z",
     "iopub.status.idle": "2025-07-20T05:48:27.031001Z",
     "shell.execute_reply": "2025-07-20T05:48:27.030399Z",
     "shell.execute_reply.started": "2025-07-20T05:48:26.752852Z"
    }
   },
   "outputs": [],
   "source": [
    "# This Python 3 environment comes with many helpful analytics libraries installed\n",
    "# It is defined by the kaggle/python Docker image: https://github.com/kaggle/docker-python\n",
    "# For example, here's several helpful packages to load\n",
    "\n",
    "import numpy as np # linear algebra\n",
    "import pandas as pd # data processing, CSV file I/O (e.g. pd.read_csv)\n",
    "\n",
    "# Input data files are available in the read-only \"../input/\" directory\n",
    "# For example, running this (by clicking run or pressing Shift+Enter) will list all files under the input directory\n",
    "\n",
    "import os\n",
    "for dirname, _, filenames in os.walk('/kaggle/input'):\n",
    "    for filename in filenames:\n",
    "        print(os.path.join(dirname, filename))\n",
    "\n",
    "# You can write up to 20GB to the current directory (/kaggle/working/) that gets preserved as output when you create a version using \"Save & Run All\" \n",
    "# You can also write temporary files to /kaggle/temp/, but they won't be saved outside of the current session"
   ]
  },
  {
   "cell_type": "code",
   "execution_count": 3,
   "metadata": {
    "execution": {
     "iopub.execute_input": "2025-07-20T05:48:27.032495Z",
     "iopub.status.busy": "2025-07-20T05:48:27.032137Z",
     "iopub.status.idle": "2025-07-20T05:48:41.070135Z",
     "shell.execute_reply": "2025-07-20T05:48:41.069125Z",
     "shell.execute_reply.started": "2025-07-20T05:48:27.032475Z"
    }
   },
   "outputs": [
    {
     "name": "stdout",
     "output_type": "stream",
     "text": [
      "Requirement already satisfied: gensim in /usr/local/lib/python3.11/dist-packages (4.3.3)\n",
      "Requirement already satisfied: numpy<2.0,>=1.18.5 in /usr/local/lib/python3.11/dist-packages (from gensim) (1.26.4)\n",
      "Collecting scipy<1.14.0,>=1.7.0 (from gensim)\n",
      "  Downloading scipy-1.13.1-cp311-cp311-manylinux_2_17_x86_64.manylinux2014_x86_64.whl.metadata (60 kB)\n",
      "\u001b[2K     \u001b[90m━━━━━━━━━━━━━━━━━━━━━━━━━━━━━━━━━━━━━━━━\u001b[0m \u001b[32m60.6/60.6 kB\u001b[0m \u001b[31m2.1 MB/s\u001b[0m eta \u001b[36m0:00:00\u001b[0m\n",
      "\u001b[?25hRequirement already satisfied: smart-open>=1.8.1 in /usr/local/lib/python3.11/dist-packages (from gensim) (7.1.0)\n",
      "Requirement already satisfied: mkl_fft in /usr/local/lib/python3.11/dist-packages (from numpy<2.0,>=1.18.5->gensim) (1.3.8)\n",
      "Requirement already satisfied: mkl_random in /usr/local/lib/python3.11/dist-packages (from numpy<2.0,>=1.18.5->gensim) (1.2.4)\n",
      "Requirement already satisfied: mkl_umath in /usr/local/lib/python3.11/dist-packages (from numpy<2.0,>=1.18.5->gensim) (0.1.1)\n",
      "Requirement already satisfied: mkl in /usr/local/lib/python3.11/dist-packages (from numpy<2.0,>=1.18.5->gensim) (2025.2.0)\n",
      "Requirement already satisfied: tbb4py in /usr/local/lib/python3.11/dist-packages (from numpy<2.0,>=1.18.5->gensim) (2022.2.0)\n",
      "Requirement already satisfied: mkl-service in /usr/local/lib/python3.11/dist-packages (from numpy<2.0,>=1.18.5->gensim) (2.4.1)\n",
      "Requirement already satisfied: wrapt in /usr/local/lib/python3.11/dist-packages (from smart-open>=1.8.1->gensim) (1.17.2)\n",
      "Requirement already satisfied: intel-openmp<2026,>=2024 in /usr/local/lib/python3.11/dist-packages (from mkl->numpy<2.0,>=1.18.5->gensim) (2024.2.0)\n",
      "Requirement already satisfied: tbb==2022.* in /usr/local/lib/python3.11/dist-packages (from mkl->numpy<2.0,>=1.18.5->gensim) (2022.2.0)\n",
      "Requirement already satisfied: tcmlib==1.* in /usr/local/lib/python3.11/dist-packages (from tbb==2022.*->mkl->numpy<2.0,>=1.18.5->gensim) (1.4.0)\n",
      "Requirement already satisfied: intel-cmplr-lib-rt in /usr/local/lib/python3.11/dist-packages (from mkl_umath->numpy<2.0,>=1.18.5->gensim) (2024.2.0)\n",
      "Requirement already satisfied: intel-cmplr-lib-ur==2024.2.0 in /usr/local/lib/python3.11/dist-packages (from intel-openmp<2026,>=2024->mkl->numpy<2.0,>=1.18.5->gensim) (2024.2.0)\n",
      "Downloading scipy-1.13.1-cp311-cp311-manylinux_2_17_x86_64.manylinux2014_x86_64.whl (38.6 MB)\n",
      "\u001b[2K   \u001b[90m━━━━━━━━━━━━━━━━━━━━━━━━━━━━━━━━━━━━━━━━\u001b[0m \u001b[32m38.6/38.6 MB\u001b[0m \u001b[31m46.8 MB/s\u001b[0m eta \u001b[36m0:00:00\u001b[0m:00:01\u001b[0m00:01\u001b[0m\n",
      "\u001b[?25hInstalling collected packages: scipy\n",
      "  Attempting uninstall: scipy\n",
      "    Found existing installation: scipy 1.15.3\n",
      "    Uninstalling scipy-1.15.3:\n",
      "      Successfully uninstalled scipy-1.15.3\n",
      "\u001b[31mERROR: pip's dependency resolver does not currently take into account all the packages that are installed. This behaviour is the source of the following dependency conflicts.\n",
      "cesium 0.12.4 requires numpy<3.0,>=2.0, but you have numpy 1.26.4 which is incompatible.\n",
      "tsfresh 0.21.0 requires scipy>=1.14.0; python_version >= \"3.10\", but you have scipy 1.13.1 which is incompatible.\n",
      "dopamine-rl 4.1.2 requires gymnasium>=1.0.0, but you have gymnasium 0.29.0 which is incompatible.\n",
      "imbalanced-learn 0.13.0 requires scikit-learn<2,>=1.3.2, but you have scikit-learn 1.2.2 which is incompatible.\n",
      "plotnine 0.14.5 requires matplotlib>=3.8.0, but you have matplotlib 3.7.2 which is incompatible.\n",
      "mlxtend 0.23.4 requires scikit-learn>=1.3.1, but you have scikit-learn 1.2.2 which is incompatible.\u001b[0m\u001b[31m\n",
      "\u001b[0mSuccessfully installed scipy-1.13.1\n",
      "Note: you may need to restart the kernel to use updated packages.\n"
     ]
    }
   ],
   "source": [
    "pip install gensim"
   ]
  },
  {
   "cell_type": "code",
   "execution_count": 7,
   "metadata": {
    "execution": {
     "iopub.execute_input": "2025-07-20T06:01:05.407061Z",
     "iopub.status.busy": "2025-07-20T06:01:05.406335Z",
     "iopub.status.idle": "2025-07-20T06:01:50.979679Z",
     "shell.execute_reply": "2025-07-20T06:01:50.978918Z",
     "shell.execute_reply.started": "2025-07-20T06:01:05.407036Z"
    }
   },
   "outputs": [],
   "source": [
    "import gensim.downloader as api\n",
    "wv_pretrained = api.load('word2vec-google-news-300')"
   ]
  },
  {
   "cell_type": "code",
   "execution_count": 8,
   "metadata": {
    "execution": {
     "iopub.execute_input": "2025-07-20T06:01:50.982012Z",
     "iopub.status.busy": "2025-07-20T06:01:50.981036Z",
     "iopub.status.idle": "2025-07-20T06:01:53.177099Z",
     "shell.execute_reply": "2025-07-20T06:01:53.176473Z",
     "shell.execute_reply.started": "2025-07-20T06:01:50.981981Z"
    }
   },
   "outputs": [
    {
     "name": "stdout",
     "output_type": "stream",
     "text": [
      "Most similar to 'computer':\n",
      "[('computers', 0.7979380488395691), ('laptop', 0.6640493869781494), ('laptop_computer', 0.6548868417739868), ('Computer', 0.6473335027694702), ('com_puter', 0.6082080006599426)]\n",
      "Most similar to 'city':\n",
      "[('citys', 0.6803998947143555), ('mayor', 0.6751152873039246), ('town', 0.6723740100860596), ('municipality', 0.6530812978744507), ('municipal', 0.6222546100616455)]\n",
      "Most similar to 'music':\n",
      "[('classical_music', 0.7197793126106262), ('jazz', 0.683463990688324), ('Music', 0.6595720648765564), ('Without_Donny_Kirshner', 0.6416222453117371), ('songs', 0.6396344304084778)]\n",
      "Most similar to 'teacher':\n",
      "[('teachers', 0.7434301972389221), ('Teacher', 0.7094014286994934), ('guidance_counselor', 0.6960431933403015), ('elementary', 0.6790565848350525), ('PE_teacher', 0.6539357304573059)]\n",
      "Most similar to 'happy':\n",
      "[('glad', 0.7408890724182129), ('pleased', 0.6632171273231506), ('ecstatic', 0.6626912355422974), ('overjoyed', 0.6599286198616028), ('thrilled', 0.6514049172401428)]\n"
     ]
    }
   ],
   "source": [
    "words = ['computer', 'city', 'music', 'teacher', 'happy']\n",
    "for word in words:\n",
    "    print(f\"Most similar to '{word}':\")\n",
    "    print(wv_pretrained.most_similar(word, topn=5))"
   ]
  },
  {
   "cell_type": "code",
   "execution_count": 9,
   "metadata": {
    "execution": {
     "iopub.execute_input": "2025-07-20T06:04:52.814956Z",
     "iopub.status.busy": "2025-07-20T06:04:52.814184Z",
     "iopub.status.idle": "2025-07-20T06:04:53.713690Z",
     "shell.execute_reply": "2025-07-20T06:04:53.712884Z",
     "shell.execute_reply.started": "2025-07-20T06:04:52.814908Z"
    }
   },
   "outputs": [
    {
     "name": "stdout",
     "output_type": "stream",
     "text": [
      "[('queen', 0.7118192911148071)]\n",
      "[('Tokyo', 0.8142861723899841)]\n",
      "[('swim', 0.8259809017181396)]\n",
      "[('written', 0.4334881603717804)]\n"
     ]
    }
   ],
   "source": [
    "# king - man + woman ~ queen\n",
    "print(wv_pretrained.most_similar(positive=['king', 'woman'], negative=['man'], topn=1))\n",
    "\n",
    "# Example analogies\n",
    "# France - Paris + Tokyo ~= Japan\n",
    "print(wv_pretrained.most_similar(positive=['Japan', 'Paris'], negative=['France'], topn=1))\n",
    "\n",
    "# walking - walk + swimming ~= swim\n",
    "print(wv_pretrained.most_similar(positive=['swimming', 'walk'], negative=['walking'], topn=1))\n",
    "\n",
    "# coding - code + write ~= writing\n",
    "print(wv_pretrained.most_similar(positive=['write', 'code'], negative=['coding'], topn=1))\n"
   ]
  },
  {
   "cell_type": "code",
   "execution_count": 10,
   "metadata": {
    "execution": {
     "iopub.execute_input": "2025-07-20T06:09:10.539162Z",
     "iopub.status.busy": "2025-07-20T06:09:10.538652Z",
     "iopub.status.idle": "2025-07-20T06:09:12.376490Z",
     "shell.execute_reply": "2025-07-20T06:09:12.375545Z",
     "shell.execute_reply.started": "2025-07-20T06:09:10.539139Z"
    }
   },
   "outputs": [
    {
     "name": "stdout",
     "output_type": "stream",
     "text": [
      "                                              review sentiment\n",
      "0  One of the other reviewers has mentioned that ...  positive\n",
      "1  A wonderful little production. <br /><br />The...  positive\n",
      "2  I thought this was a wonderful way to spend ti...  positive\n",
      "3  Basically there's a family where a little boy ...  negative\n",
      "4  Petter Mattei's \"Love in the Time of Money\" is...  positive\n"
     ]
    }
   ],
   "source": [
    "import pandas as pd\n",
    "\n",
    "df = pd.read_csv('/kaggle/input/imdb-dataset/IMDB Dataset.csv')\n",
    "print(df.head())\n"
   ]
  },
  {
   "cell_type": "code",
   "execution_count": 11,
   "metadata": {
    "execution": {
     "iopub.execute_input": "2025-07-20T06:09:34.662593Z",
     "iopub.status.busy": "2025-07-20T06:09:34.662110Z",
     "iopub.status.idle": "2025-07-20T06:10:12.282973Z",
     "shell.execute_reply": "2025-07-20T06:10:12.282112Z",
     "shell.execute_reply.started": "2025-07-20T06:09:34.662571Z"
    }
   },
   "outputs": [],
   "source": [
    "import string\n",
    "from nltk.corpus import stopwords\n",
    "from nltk.tokenize import word_tokenize\n",
    "\n",
    "stop_words = set(stopwords.words('english'))\n",
    "\n",
    "def clean_text(text):\n",
    "    text = text.lower()\n",
    "    text = ''.join([ch for ch in text if ch not in string.punctuation])\n",
    "    tokens = word_tokenize(text)\n",
    "    tokens = [word for word in tokens if word not in stop_words]\n",
    "    return tokens\n",
    "\n",
    "df['tokens'] = df['review'].apply(clean_text)\n"
   ]
  },
  {
   "cell_type": "code",
   "execution_count": 12,
   "metadata": {
    "execution": {
     "iopub.execute_input": "2025-07-20T06:11:55.425564Z",
     "iopub.status.busy": "2025-07-20T06:11:55.425028Z",
     "iopub.status.idle": "2025-07-20T06:12:07.164413Z",
     "shell.execute_reply": "2025-07-20T06:12:07.163849Z",
     "shell.execute_reply.started": "2025-07-20T06:11:55.425543Z"
    }
   },
   "outputs": [],
   "source": [
    "def get_w2v_mean(tokens, model, size=300):\n",
    "    vectors = [model[word] for word in tokens if word in model]\n",
    "    if vectors:\n",
    "        return np.mean(vectors, axis=0)\n",
    "    else:\n",
    "        return np.zeros(size)\n",
    "\n",
    "import numpy as np\n",
    "\n",
    "X_w2v = np.array(df['tokens'].apply(lambda x: get_w2v_mean(x, wv_pretrained)).tolist())\n",
    "y = df['sentiment'].map({'negative': 0, 'positive': 1}).values\n"
   ]
  },
  {
   "cell_type": "code",
   "execution_count": 13,
   "metadata": {
    "execution": {
     "iopub.execute_input": "2025-07-20T06:12:07.165638Z",
     "iopub.status.busy": "2025-07-20T06:12:07.165443Z",
     "iopub.status.idle": "2025-07-20T06:14:27.653463Z",
     "shell.execute_reply": "2025-07-20T06:14:27.652813Z",
     "shell.execute_reply.started": "2025-07-20T06:12:07.165623Z"
    }
   },
   "outputs": [],
   "source": [
    "from gensim.models import Word2Vec\n",
    "\n",
    "sentences = df['tokens'].tolist()\n",
    "\n",
    "# Skip-gram\n",
    "sg_model = Word2Vec(sentences, vector_size=100, sg=1, window=3, min_count=1, workers=4)\n",
    "X_skipgram = np.array([np.mean([sg_model.wv[word] for word in tokens if word in sg_model.wv] or [np.zeros(100)], axis=0) for tokens in sentences])\n",
    "\n",
    "# CBOW\n",
    "cbow_model = Word2Vec(sentences, vector_size=100, sg=0, window=3, min_count=1, workers=4)\n",
    "X_cbow = np.array([np.mean([cbow_model.wv[word] for word in tokens if word in cbow_model.wv] or [np.zeros(100)], axis=0) for tokens in sentences])\n"
   ]
  },
  {
   "cell_type": "code",
   "execution_count": 14,
   "metadata": {
    "execution": {
     "iopub.execute_input": "2025-07-20T06:14:27.656062Z",
     "iopub.status.busy": "2025-07-20T06:14:27.655776Z",
     "iopub.status.idle": "2025-07-20T06:17:57.928781Z",
     "shell.execute_reply": "2025-07-20T06:17:57.928132Z",
     "shell.execute_reply.started": "2025-07-20T06:14:27.656044Z"
    }
   },
   "outputs": [],
   "source": [
    "from gensim.models import FastText\n",
    "\n",
    "fasttext_model = FastText(sentences, vector_size=100, sg=1, window=3, min_count=1, workers=4)\n",
    "X_fasttext = np.array([np.mean([fasttext_model.wv[word] for word in tokens if word in fasttext_model.wv] or [np.zeros(100)], axis=0) for tokens in sentences])\n"
   ]
  },
  {
   "cell_type": "code",
   "execution_count": 18,
   "metadata": {
    "execution": {
     "iopub.execute_input": "2025-07-20T06:29:10.176368Z",
     "iopub.status.busy": "2025-07-20T06:29:10.176045Z",
     "iopub.status.idle": "2025-07-20T06:29:12.672102Z",
     "shell.execute_reply": "2025-07-20T06:29:12.671201Z",
     "shell.execute_reply.started": "2025-07-20T06:29:10.176347Z"
    }
   },
   "outputs": [],
   "source": [
    "from sklearn.model_selection import train_test_split\n",
    "from sklearn.linear_model import LogisticRegression\n",
    "from sklearn.metrics import accuracy_score, f1_score\n",
    "\n",
    "def train_and_evaluate(X, y):\n",
    "    X_train, X_test, y_train, y_test = train_test_split(X, y, test_size=0.2, random_state=42)\n",
    "    clf = LogisticRegression(max_iter=1000)\n",
    "    clf.fit(X_train, y_train)\n",
    "    pred = clf.predict(X_test)\n",
    "    return accuracy_score(y_test, pred), f1_score(y_test, pred)\n",
    "\n",
    "results = {}\n",
    "results['Pre-trained W2V'] = train_and_evaluate(X_w2v, y)\n",
    "results['Custom Skip-gram'] = train_and_evaluate(X_skipgram, y)\n",
    "results['Custom CBOW'] = train_and_evaluate(X_cbow, y)\n",
    "results['Custom FastText'] = train_and_evaluate(X_fasttext, y)\n"
   ]
  },
  {
   "cell_type": "code",
   "execution_count": 19,
   "metadata": {
    "execution": {
     "iopub.execute_input": "2025-07-20T06:29:17.796925Z",
     "iopub.status.busy": "2025-07-20T06:29:17.796662Z",
     "iopub.status.idle": "2025-07-20T06:29:17.801530Z",
     "shell.execute_reply": "2025-07-20T06:29:17.800738Z",
     "shell.execute_reply.started": "2025-07-20T06:29:17.796905Z"
    }
   },
   "outputs": [
    {
     "name": "stdout",
     "output_type": "stream",
     "text": [
      "Pre-trained W2V: Accuracy = 0.8529, F1-score = 0.8541\n",
      "Custom Skip-gram: Accuracy = 0.8702, F1-score = 0.8717\n",
      "Custom CBOW: Accuracy = 0.8556, F1-score = 0.8577\n",
      "Custom FastText: Accuracy = 0.8687, F1-score = 0.8705\n"
     ]
    }
   ],
   "source": [
    "for model_name, (acc, f1) in results.items():\n",
    "    print(f\"{model_name}: Accuracy = {acc:.4f}, F1-score = {f1:.4f}\")\n"
   ]
  },
  {
   "cell_type": "code",
   "execution_count": 20,
   "metadata": {
    "execution": {
     "iopub.execute_input": "2025-07-20T06:29:18.728878Z",
     "iopub.status.busy": "2025-07-20T06:29:18.728586Z",
     "iopub.status.idle": "2025-07-20T06:29:18.931950Z",
     "shell.execute_reply": "2025-07-20T06:29:18.931326Z",
     "shell.execute_reply.started": "2025-07-20T06:29:18.728855Z"
    }
   },
   "outputs": [
    {
     "data": {
      "image/png": "[encoded data removed]",
      "text/plain": [
       "<Figure size 1000x600 with 1 Axes>"
      ]
     },
     "metadata": {},
     "output_type": "display_data"
    }
   ],
   "source": [
    "import numpy as np\n",
    "import pandas as pd\n",
    "from sklearn.model_selection import train_test_split\n",
    "from sklearn.linear_model import LogisticRegression\n",
    "from sklearn.metrics import accuracy_score, f1_score\n",
    "import matplotlib.pyplot as plt\n",
    "\n",
    "models = list(results.keys())\n",
    "accuracy_scores = [results[m][0] for m in models]\n",
    "f1_scores = [results[m][1] for m in models]\n",
    "\n",
    "# Create a bar chart\n",
    "x = np.arange(len(models))\n",
    "width = 0.35\n",
    "\n",
    "fig, ax = plt.subplots(figsize=(10, 6))\n",
    "bars1 = ax.bar(x - width/2, accuracy_scores, width, label='Accuracy')\n",
    "bars2 = ax.bar(x + width/2, f1_scores, width, label='F1-score')\n",
    "\n",
    "ax.set_xlabel('Model')\n",
    "ax.set_ylabel('Score')\n",
    "ax.set_title('Sentiment Analysis Model Performance')\n",
    "ax.set_xticks(x)\n",
    "ax.set_xticklabels(models)\n",
    "ax.legend()\n",
    "\n",
    "for bar in bars1 + bars2:\n",
    "    yval = bar.get_height()\n",
    "    ax.text(bar.get_x() + bar.get_width()/2, yval + 0.01, round(yval, 4), ha='center', va='bottom')\n",
    "\n",
    "plt.ylim(0.8, 0.9)\n",
    "plt.show()\n"
   ]
  },
  {
   "cell_type": "code",
   "execution_count": null,
   "metadata": {},
   "outputs": [],
   "source": []
  }
 ],
 "metadata": {
  "kaggle": {
   "accelerator": "nvidiaTeslaT4",
   "dataSources": [
    {
     "datasetId": 7904241,
     "sourceId": 12522090,
     "sourceType": "datasetVersion"
    }
   ],
   "dockerImageVersionId": 31090,
   "isGpuEnabled": true,
   "isInternetEnabled": true,
   "language": "python",
   "sourceType": "notebook"
  },
  "kernelspec": {
   "display_name": "Python 3 (ipykernel)",
   "language": "python",
   "name": "python3"
  },
  "language_info": {
   "codemirror_mode": {
    "name": "ipython",
    "version": 3
   },
   "file_extension": ".py",
   "mimetype": "text/x-python",
   "name": "python",
   "nbconvert_exporter": "python",
   "pygments_lexer": "ipython3",
   "version": "3.11.9"
  }
 },
 "nbformat": 4,
 "nbformat_minor": 4
}
